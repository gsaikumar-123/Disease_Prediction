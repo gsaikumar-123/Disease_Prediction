{
 "cells": [
  {
   "cell_type": "code",
   "execution_count": 2,
   "metadata": {},
   "outputs": [
    {
     "name": "stdout",
     "output_type": "stream",
     "text": [
      "\n",
      "Dimensionality Reduction Summary:\n",
      "Original number of symptoms: 131\n",
      "Number of symptoms after reduction: 31\n",
      "Symptoms removed: 100\n",
      "\n",
      "Final Dataset Info:\n",
      "Number of samples: 4920\n",
      "Number of features: 31\n"
     ]
    }
   ],
   "source": [
    "import pandas as pd\n",
    "import numpy as np\n",
    "\n",
    "def preprocess(data, min_occurrence_percentage=5):\n",
    "    df = data.copy()\n",
    "    all_symptoms = set()\n",
    "    for col in df.columns[1:]:\n",
    "        all_symptoms.update(df[col].dropna().unique())\n",
    "\n",
    "    symptom_dict = {'Disease': df['Disease']}\n",
    "\n",
    "    for symptom in sorted(all_symptoms):\n",
    "        has_symptom = pd.Series(False, index=df.index)\n",
    "        for col in df.columns[1:]:\n",
    "            has_symptom = has_symptom | (df[col] == symptom)\n",
    "        symptom_dict[symptom] = has_symptom.astype(int)\n",
    "\n",
    "    symptom_df = pd.DataFrame(symptom_dict)\n",
    "    symptom_occurrences = symptom_df.drop('Disease', axis=1).mean() * 100\n",
    "    frequent_symptoms = symptom_occurrences[symptom_occurrences >= min_occurrence_percentage].index\n",
    "    reduced_df = symptom_df[['Disease'] + list(frequent_symptoms)]\n",
    "\n",
    "    print(f\"\\nDimensionality Reduction Summary:\")\n",
    "    print(f\"Original number of symptoms: {len(all_symptoms)}\")\n",
    "    print(f\"Number of symptoms after reduction: {len(frequent_symptoms)}\")\n",
    "    print(f\"Symptoms removed: {len(all_symptoms) - len(frequent_symptoms)}\")\n",
    "\n",
    "    return reduced_df\n",
    "\n",
    "\n",
    "data = pd.read_csv(\"data/dataset.csv\")\n",
    "processed_df = preprocess(data, min_occurrence_percentage=5)\n",
    "processed_df.to_csv(\"data/final_data.csv\", index=False)\n",
    "\n",
    "print(\"\\nFinal Dataset Info:\")\n",
    "print(f\"Number of samples: {len(processed_df)}\")\n",
    "print(f\"Number of features: {len(processed_df.columns) - 1}\")"
   ]
  },
  {
   "cell_type": "code",
   "execution_count": 3,
   "metadata": {},
   "outputs": [],
   "source": [
    "import pandas as pd\n",
    "import numpy as np\n",
    "import os\n",
    "import joblib\n",
    "import matplotlib.pyplot as plt\n",
    "import seaborn as sns\n",
    "from sklearn.model_selection import train_test_split\n",
    "from sklearn.preprocessing import StandardScaler\n",
    "from sklearn.metrics import accuracy_score, precision_score, recall_score, f1_score, confusion_matrix, classification_report\n",
    "from sklearn.svm import SVC\n",
    "from sklearn.naive_bayes import GaussianNB\n",
    "from sklearn.linear_model import LogisticRegression\n",
    "from sklearn.ensemble import RandomForestClassifier,GradientBoostingClassifier,AdaBoostClassifier\n",
    "from sklearn.tree import DecisionTreeClassifier\n",
    "from sklearn.neighbors import KNeighborsClassifier"
   ]
  },
  {
   "cell_type": "code",
   "execution_count": 4,
   "metadata": {},
   "outputs": [],
   "source": [
    "def load_data():\n",
    "    data = pd.read_csv(\"data/final_data.csv\")\n",
    "    if 'Disease' not in data.columns:\n",
    "        if 'disease' in data.columns:\n",
    "            data = data.rename(columns={'disease': 'Disease'})\n",
    "        elif 'DISEASE' in data.columns:\n",
    "            data = data.rename(columns={'DISEASE': 'Disease'})\n",
    "        else:\n",
    "            raise KeyError(\"'Disease' column not found in any variation\")\n",
    "\n",
    "    x = data.drop('Disease', axis=1)\n",
    "    y = data['Disease']\n",
    "    return x, y"
   ]
  },
  {
   "cell_type": "code",
   "execution_count": null,
   "metadata": {},
   "outputs": [],
   "source": []
  }
 ],
 "metadata": {
  "kernelspec": {
   "display_name": "Python 3",
   "language": "python",
   "name": "python3"
  },
  "language_info": {
   "codemirror_mode": {
    "name": "ipython",
    "version": 3
   },
   "file_extension": ".py",
   "mimetype": "text/x-python",
   "name": "python",
   "nbconvert_exporter": "python",
   "pygments_lexer": "ipython3",
   "version": "3.12.0"
  }
 },
 "nbformat": 4,
 "nbformat_minor": 2
}
